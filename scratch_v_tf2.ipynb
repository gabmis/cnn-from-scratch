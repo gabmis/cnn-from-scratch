{
 "cells": [
  {
   "cell_type": "code",
   "execution_count": 1,
   "metadata": {},
   "outputs": [],
   "source": [
    "import sys\n",
    "\n",
    "import numpy as np\n",
    "import tensorflow as tf\n",
    "import tensorflow.keras.layers as layers\n",
    "from tensorflow.keras import Model\n",
    "from tqdm import trange"
   ]
  },
  {
   "cell_type": "code",
   "execution_count": 2,
   "metadata": {},
   "outputs": [],
   "source": [
    "sys.path.append(\"/Users/gabrielmisrachi/Job Search/Deepsense/cnn-from-scratch\")"
   ]
  },
  {
   "cell_type": "code",
   "execution_count": 3,
   "metadata": {},
   "outputs": [],
   "source": [
    "from base import Batcher\n",
    "from cnn import Conv2D, Identity, MSE, SGD"
   ]
  },
  {
   "cell_type": "code",
   "execution_count": 4,
   "metadata": {},
   "outputs": [],
   "source": [
    "tf.keras.backend.set_floatx('float64')"
   ]
  },
  {
   "cell_type": "code",
   "execution_count": 5,
   "metadata": {},
   "outputs": [],
   "source": [
    "batch_size = 20\n",
    "input_shape = (3, 3, 1)\n",
    "n_samples = 1000\n",
    "images = np.random.rand(n_samples, *input_shape)\n",
    "kernel_size = 2\n",
    "n_filters = 1\n",
    "targets = np.zeros((n_samples, 4))\n",
    "batcher = Batcher(images, targets, batch_size)\n",
    "conv = Conv2D(input_shape, kernel_size, n_filters, activation=Identity(), full=False)\n",
    "conv.optimizer = SGD(lr=0.01)\n",
    "loss = MSE()"
   ]
  },
  {
   "cell_type": "code",
   "execution_count": 6,
   "metadata": {},
   "outputs": [],
   "source": [
    "def compute_grads(conv, images_batch, targets_batch):\n",
    "    preds = conv.forward(images_batch)\n",
    "    preds = preds.reshape(-1, 4)\n",
    "    loss_value = loss.forward(preds, targets_batch)\n",
    "    deltas = loss.gradient(preds, targets_batch)\n",
    "    deltas = deltas.reshape((-1, 2, 2, 1))\n",
    "    grads, deltas = conv.compute_grads(deltas)\n",
    "    deltas = conv.activation.derivative(conv.weighted_input_memory) * deltas\n",
    "    return loss_value, grads, preds"
   ]
  },
  {
   "cell_type": "code",
   "execution_count": 8,
   "metadata": {},
   "outputs": [
    {
     "name": "stderr",
     "output_type": "stream",
     "text": [
      "Loss = 1.419637016567881: 100%|██████████| 100/100 [00:06<00:00, 15.74it/s]"
     ]
    },
    {
     "name": "stdout",
     "output_type": "stream",
     "text": [
      "Conv layer weights [[[[0.63576771]\n",
      "   [0.54199641]]\n",
      "\n",
      "  [[0.65191169]\n",
      "   [0.48363533]]]] did not converge to 0.\n"
     ]
    },
    {
     "name": "stderr",
     "output_type": "stream",
     "text": [
      "\n"
     ]
    }
   ],
   "source": [
    "loss_values = np.inf\n",
    "t = trange(100, desc=\"Loss = {}\".format(np.mean(loss_values)), leave=True)\n",
    "for _ in t:\n",
    "    loss_list = []\n",
    "    done = False\n",
    "    while not done:\n",
    "        done, images_batch, targets_batch = batcher.next()\n",
    "        loss_values, grads, _ = compute_grads(conv, images_batch, targets_batch)\n",
    "        conv.optimizer.step(conv.weights, grads)\n",
    "        loss_list.append(loss_values.mean())\n",
    "    t.set_description(\"Loss = {}\".format(np.mean(loss_list)))\n",
    "if not np.allclose(conv.weights, np.zeros_like(conv.weights)):\n",
    "    print(\n",
    "        \"Conv layer weights {} did not converge to 0.\".format(conv.weights)\n",
    "    )"
   ]
  },
  {
   "cell_type": "code",
   "execution_count": 9,
   "metadata": {},
   "outputs": [],
   "source": [
    "conv_tf = layers.Conv2D(n_filters, kernel_size, padding=\"valid\", activation=\"linear\", use_bias=False)"
   ]
  },
  {
   "cell_type": "code",
   "execution_count": 10,
   "metadata": {},
   "outputs": [],
   "source": [
    "class MyModel(Model):\n",
    "    def __init__(self):\n",
    "        super(MyModel, self).__init__()\n",
    "        self.conv1 = conv_tf\n",
    "        self.flatten = layers.Flatten()\n",
    "\n",
    "    def call(self, x):\n",
    "        x = self.conv1(x)\n",
    "        x = self.flatten(x)\n",
    "        return x\n",
    "\n",
    "# Create an instance of the model\n",
    "model = MyModel()"
   ]
  },
  {
   "cell_type": "code",
   "execution_count": 11,
   "metadata": {},
   "outputs": [],
   "source": [
    "def compute_grads_tf(model, images_batch, targets_batch):\n",
    "    with tf.GradientTape() as tape:\n",
    "        # training=True is only needed if there are layers with different\n",
    "        # behavior during training versus inference (e.g. Dropout).\n",
    "        predictions = model(images_batch, training=True)\n",
    "        loss_value = loss_object(targets_batch, predictions)\n",
    "    gradients = tape.gradient(loss_value, model.trainable_variables)\n",
    "    return loss_value, gradients, predictions"
   ]
  },
  {
   "cell_type": "code",
   "execution_count": 13,
   "metadata": {},
   "outputs": [
    {
     "name": "stderr",
     "output_type": "stream",
     "text": [
      "Loss = 0.009134009948617015: 100%|██████████| 1/1 [00:01<00:00,  1.05s/it]\n"
     ]
    }
   ],
   "source": [
    "loss_values = np.inf\n",
    "loss_object = tf.keras.losses.mean_squared_error\n",
    "optimizer = tf.keras.optimizers.SGD()\n",
    "t = trange(1, desc=\"Loss = {}\".format(np.mean(loss_values)), leave=True)\n",
    "for _ in t:\n",
    "    loss_list = []\n",
    "    done = False\n",
    "    while not done:\n",
    "        done, images_batch, targets_batch = batcher.next()\n",
    "        loss_value, gradients, _ = compute_grads_tf(model, images_batch, targets_batch)\n",
    "        optimizer.apply_gradients(zip(gradients, model.trainable_variables))\n",
    "        loss_list.append(np.mean(loss_value))\n",
    "    t.set_description(\"Loss = {}\".format(np.mean(loss_list)))"
   ]
  },
  {
   "cell_type": "markdown",
   "metadata": {},
   "source": [
    "# Check gradients"
   ]
  },
  {
   "cell_type": "code",
   "execution_count": 14,
   "metadata": {},
   "outputs": [
    {
     "data": {
      "text/plain": [
       "array([[[[0.63576771],\n",
       "         [0.54199641]],\n",
       "\n",
       "        [[0.65191169],\n",
       "         [0.48363533]]]])"
      ]
     },
     "execution_count": 14,
     "metadata": {},
     "output_type": "execute_result"
    }
   ],
   "source": [
    "conv.weights"
   ]
  },
  {
   "cell_type": "code",
   "execution_count": 15,
   "metadata": {},
   "outputs": [],
   "source": [
    "conv_tf.set_weights([conv.weights.reshape(2, 2, 1, 1)])"
   ]
  },
  {
   "cell_type": "code",
   "execution_count": 16,
   "metadata": {},
   "outputs": [
    {
     "data": {
      "text/plain": [
       "[<tf.Variable 'my_model/conv2d/kernel:0' shape=(2, 2, 1, 1) dtype=float64, numpy=\n",
       " array([[[[0.63576771]],\n",
       " \n",
       "         [[0.54199641]]],\n",
       " \n",
       " \n",
       "        [[[0.65191169]],\n",
       " \n",
       "         [[0.48363533]]]])>]"
      ]
     },
     "execution_count": 16,
     "metadata": {},
     "output_type": "execute_result"
    }
   ],
   "source": [
    "model.weights"
   ]
  },
  {
   "cell_type": "code",
   "execution_count": 17,
   "metadata": {},
   "outputs": [],
   "source": [
    "done, images_batch, targets_batch = batcher.next()\n",
    "loss_value, gradients, predictions = compute_grads(conv, images_batch, targets_batch)\n",
    "loss_value_tf, gradients_tf, predictions_tf = compute_grads_tf(model, images_batch, targets_batch)"
   ]
  },
  {
   "cell_type": "code",
   "execution_count": 32,
   "metadata": {},
   "outputs": [
    {
     "data": {
      "text/plain": [
       "array([[[[24.2096953 ],\n",
       "         [23.93038234]],\n",
       "\n",
       "        [[24.67887866],\n",
       "         [24.71300484]]]])"
      ]
     },
     "execution_count": 32,
     "metadata": {},
     "output_type": "execute_result"
    }
   ],
   "source": [
    "gradients.sum(axis=0)"
   ]
  },
  {
   "cell_type": "code",
   "execution_count": 19,
   "metadata": {},
   "outputs": [
    {
     "data": {
      "text/plain": [
       "<tf.Tensor: id=2015, shape=(2, 2, 1, 1), dtype=float64, numpy=\n",
       "array([[[[24.2096953 ]],\n",
       "\n",
       "        [[23.93038234]]],\n",
       "\n",
       "\n",
       "       [[[24.67887866]],\n",
       "\n",
       "        [[24.71300484]]]])>"
      ]
     },
     "execution_count": 19,
     "metadata": {},
     "output_type": "execute_result"
    }
   ],
   "source": [
    "gradients_tf[0]"
   ]
  },
  {
   "cell_type": "code",
   "execution_count": 30,
   "metadata": {},
   "outputs": [
    {
     "data": {
      "text/plain": [
       "[<tf.Tensor: id=2015, shape=(2, 2, 1, 1), dtype=float64, numpy=\n",
       " array([[[[24.2096953 ]],\n",
       " \n",
       "         [[23.93038234]]],\n",
       " \n",
       " \n",
       "        [[[24.67887866]],\n",
       " \n",
       "         [[24.71300484]]]])>]"
      ]
     },
     "execution_count": 30,
     "metadata": {},
     "output_type": "execute_result"
    }
   ],
   "source": [
    "gradients_tf"
   ]
  },
  {
   "cell_type": "code",
   "execution_count": 20,
   "metadata": {},
   "outputs": [
    {
     "data": {
      "text/plain": [
       "array([1.0898142 , 1.18667946, 0.80355518, 0.70998429])"
      ]
     },
     "execution_count": 20,
     "metadata": {},
     "output_type": "execute_result"
    }
   ],
   "source": [
    "predictions[0]"
   ]
  },
  {
   "cell_type": "code",
   "execution_count": 22,
   "metadata": {},
   "outputs": [
    {
     "data": {
      "text/plain": [
       "array([[[1.0898142 ],\n",
       "        [1.18667946]],\n",
       "\n",
       "       [[0.80355518],\n",
       "        [0.70998429]]])"
      ]
     },
     "execution_count": 22,
     "metadata": {},
     "output_type": "execute_result"
    }
   ],
   "source": [
    "conv.forward(images_batch)[0]"
   ]
  },
  {
   "cell_type": "code",
   "execution_count": 23,
   "metadata": {},
   "outputs": [
    {
     "data": {
      "text/plain": [
       "<tf.Tensor: id=2019, shape=(4,), dtype=float64, numpy=array([1.0898142 , 1.18667946, 0.80355518, 0.70998429])>"
      ]
     },
     "execution_count": 23,
     "metadata": {},
     "output_type": "execute_result"
    }
   ],
   "source": [
    "predictions_tf[0]"
   ]
  },
  {
   "cell_type": "code",
   "execution_count": 24,
   "metadata": {},
   "outputs": [
    {
     "data": {
      "text/plain": [
       "<tf.Tensor: id=2026, shape=(2, 2, 1), dtype=float64, numpy=\n",
       "array([[[1.0898142 ],\n",
       "        [1.18667946]],\n",
       "\n",
       "       [[0.80355518],\n",
       "        [0.70998429]]])>"
      ]
     },
     "execution_count": 24,
     "metadata": {},
     "output_type": "execute_result"
    }
   ],
   "source": [
    "conv_tf(images_batch)[0]"
   ]
  },
  {
   "cell_type": "code",
   "execution_count": 25,
   "metadata": {},
   "outputs": [
    {
     "data": {
      "text/plain": [
       "array([0.93642044, 1.862848  , 2.00968683, 2.45707922, 1.47717618,\n",
       "       1.0090872 , 0.66258847, 2.24115293, 1.59150963, 1.80737672,\n",
       "       1.83669153, 0.61724609, 1.28671836, 1.51763524, 1.68438726,\n",
       "       0.76260523, 0.24047109, 1.26616325, 1.88606276, 1.0483213 ])"
      ]
     },
     "execution_count": 25,
     "metadata": {},
     "output_type": "execute_result"
    }
   ],
   "source": [
    "loss_value"
   ]
  },
  {
   "cell_type": "code",
   "execution_count": 26,
   "metadata": {},
   "outputs": [
    {
     "data": {
      "text/plain": [
       "<tf.Tensor: id=1991, shape=(20,), dtype=float64, numpy=\n",
       "array([0.93642044, 1.862848  , 2.00968683, 2.45707922, 1.47717618,\n",
       "       1.0090872 , 0.66258847, 2.24115293, 1.59150963, 1.80737672,\n",
       "       1.83669153, 0.61724609, 1.28671836, 1.51763524, 1.68438726,\n",
       "       0.76260523, 0.24047109, 1.26616325, 1.88606276, 1.0483213 ])>"
      ]
     },
     "execution_count": 26,
     "metadata": {},
     "output_type": "execute_result"
    }
   ],
   "source": [
    "loss_value_tf"
   ]
  },
  {
   "cell_type": "code",
   "execution_count": null,
   "metadata": {},
   "outputs": [],
   "source": []
  }
 ],
 "metadata": {
  "kernelspec": {
   "display_name": "Python [conda env:tf2]",
   "language": "python",
   "name": "conda-env-tf2-py"
  },
  "language_info": {
   "codemirror_mode": {
    "name": "ipython",
    "version": 3
   },
   "file_extension": ".py",
   "mimetype": "text/x-python",
   "name": "python",
   "nbconvert_exporter": "python",
   "pygments_lexer": "ipython3",
   "version": "3.7.6"
  }
 },
 "nbformat": 4,
 "nbformat_minor": 2
}
